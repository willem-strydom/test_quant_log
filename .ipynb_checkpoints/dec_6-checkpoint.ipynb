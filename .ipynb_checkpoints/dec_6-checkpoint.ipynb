{
 "cells": [
  {
   "cell_type": "code",
   "execution_count": null,
   "metadata": {},
   "outputs": [
    {
     "name": "stdout",
     "output_type": "stream",
     "text": [
      "time: 0.4789917469024658,iterations: 53\n",
      "time: 0.47461676597595215,iterations: 53\n",
      "time: 0.48023009300231934,iterations: 53\n",
      "time: 0.4751889705657959,iterations: 53\n",
      "time: 0.484525203704834,iterations: 53\n",
      "time: 0.4809591770172119,iterations: 53\n",
      "time: 0.48015308380126953,iterations: 53\n",
      "time: 0.48321080207824707,iterations: 53\n",
      "time: 0.3944680690765381,iterations: 43\n",
      "time: 0.38796401023864746,iterations: 43\n",
      "time: 0.38898682594299316,iterations: 43\n",
      "time: 0.3916618824005127,iterations: 43\n",
      "time: 0.3959970474243164,iterations: 43\n",
      "time: 0.3898959159851074,iterations: 43\n",
      "time: 0.39940977096557617,iterations: 43\n",
      "time: 0.4015991687774658,iterations: 43\n",
      "time: 0.38622403144836426,iterations: 43\n",
      "time: 0.39965009689331055,iterations: 43\n",
      "time: 0.39899373054504395,iterations: 43\n",
      "time: 0.3932149410247803,iterations: 43\n",
      "time: 0.39720797538757324,iterations: 43\n",
      "time: 0.3974027633666992,iterations: 43\n",
      "time: 0.3971860408782959,iterations: 43\n",
      "time: 0.4042329788208008,iterations: 43\n",
      "time: 0.38400793075561523,iterations: 43\n",
      "time: 1.0863611698150635,iterations: 121\n",
      "time: 1.0625169277191162,iterations: 118\n",
      "time: 1.0593109130859375,iterations: 117\n",
      "time: 1.0779869556427002,iterations: 117\n",
      "time: 1.1007931232452393,iterations: 117\n",
      "time: 1.092513084411621,iterations: 118\n",
      "time: 1.0956377983093262,iterations: 118\n",
      "time: 0.3863101005554199,iterations: 43\n",
      "time: 2.842933177947998,iterations: 312\n",
      "time: 2.8817880153656006,iterations: 318\n",
      "time: 4.461507081985474,iterations: 487\n",
      "time: 3.0389578342437744,iterations: 326\n",
      "time: 3.209238052368164,iterations: 323\n",
      "time: 3.96795392036438,iterations: 322\n",
      "time: 3.4065709114074707,iterations: 337\n",
      "time: 3.838144063949585,iterations: 402\n",
      "time: 2.1288058757781982,iterations: 223\n",
      "time: 2.359462022781372,iterations: 249\n",
      "time: 2.4003400802612305,iterations: 252\n",
      "time: 2.416064977645874,iterations: 249\n",
      "time: 2.8765029907226562,iterations: 300\n",
      "time: 2.397844076156616,iterations: 247\n",
      "time: 2.4110891819000244,iterations: 247\n",
      "time: 3.4068286418914795,iterations: 360\n",
      "time: 4.288800001144409,iterations: 437\n",
      "time: 4.046979188919067,iterations: 378\n",
      "time: 3.9497158527374268,iterations: 407\n",
      "time: 3.895395040512085,iterations: 407\n",
      "time: 4.109062194824219,iterations: 411\n",
      "time: 4.0400168895721436,iterations: 409\n",
      "time: 4.100034952163696,iterations: 414\n",
      "time: 2.777665138244629,iterations: 291\n",
      "time: 3.4417271614074707,iterations: 356\n",
      "time: 3.076155185699463,iterations: 324\n"
     ]
    }
   ],
   "source": [
    "import numpy as np\n",
    "import pandas as pd\n",
    "from sklearn.preprocessing import MinMaxScaler\n",
    "from experiment import experiment\n",
    "from experiment import test_loss\n",
    "import random\n",
    "scaler = MinMaxScaler(feature_range=(-1, 1))\n",
    "\n",
    "from gen_data import gen_data\n",
    "X,y = gen_data()\n",
    "X = scaler.fit_transform(X)\n",
    "\n",
    "bias = np.ones((X.shape[1],1)).T\n",
    "X = np.vstack((bias, X)).astype(float)\n",
    "\n",
    "experiment(X,y)"
   ]
  },
  {
   "cell_type": "code",
   "execution_count": null,
   "metadata": {},
   "outputs": [],
   "source": []
  }
 ],
 "metadata": {
  "kernelspec": {
   "display_name": "Python 3 (ipykernel)",
   "language": "python",
   "name": "python3"
  },
  "language_info": {
   "codemirror_mode": {
    "name": "ipython",
    "version": 3
   },
   "file_extension": ".py",
   "mimetype": "text/x-python",
   "name": "python",
   "nbconvert_exporter": "python",
   "pygments_lexer": "ipython3",
   "version": "3.11.4"
  }
 },
 "nbformat": 4,
 "nbformat_minor": 1
}
